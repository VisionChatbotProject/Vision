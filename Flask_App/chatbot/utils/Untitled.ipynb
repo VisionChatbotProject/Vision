{
 "cells": [
  {
   "cell_type": "code",
   "execution_count": 1,
   "id": "fd5f1bb5",
   "metadata": {},
   "outputs": [],
   "source": [
    "import pandas as pd"
   ]
  },
  {
   "cell_type": "code",
   "execution_count": 4,
   "id": "f0a71c8a",
   "metadata": {},
   "outputs": [],
   "source": [
    "from functools import lru_cache\n",
    "import sqlite3\n",
    "import pandas as pd\n",
    "import os\n",
    "from logging import getLogger\n",
    "from datetime import date\n",
    "import re\n",
    "import sys\n",
    "sys.path.append(\"../\")\n",
    "import utils.helper\n",
    "from collections import defaultdict\n"
   ]
  },
  {
   "cell_type": "code",
   "execution_count": 6,
   "id": "b0b49d2f",
   "metadata": {},
   "outputs": [],
   "source": [
    "\n",
    "client = None\n",
    "db_name = \"../chatbot.db\"\n",
    "logger = getLogger()\n"
   ]
  },
  {
   "cell_type": "code",
   "execution_count": 7,
   "id": "428bc1be",
   "metadata": {},
   "outputs": [],
   "source": [
    "client = sqlite3.connect(db_name, check_same_thread=False)\n",
    "db = client.cursor()"
   ]
  },
  {
   "cell_type": "code",
   "execution_count": 14,
   "id": "fe0ac808",
   "metadata": {},
   "outputs": [
    {
     "name": "stdout",
     "output_type": "stream",
     "text": [
      "|   quiz_id | username          | date_of_quiz   |   score |\n",
      "|----------:|:------------------|:---------------|--------:|\n",
      "|         1 | user1@college.com | 2022-08-19     |       1 |\n",
      "|         1 | user1@college.com | 2022-08-19     |       1 |\n",
      "|         1 | user1@college.com | 2022-08-19     |       1 |\n",
      "|         1 | user1@college.com | 2022-08-19     |       1 |\n",
      "|         1 | user1@college.com | 2022-08-24     |       1 |\n",
      "|         1 | user1@college.com | 2022-08-24     |       1 |\n",
      "|         1 | user1@college.com | 2022-08-24     |       1 |\n",
      "|         1 | user1@college.com | 2022-08-24     |       1 |\n",
      "|         1 | user1@college.com | 2022-08-25     |       1 |\n",
      "|         1 | user1@college.com | 2022-08-31     |     100 |\n",
      "|         2 | user1@college.com | 2022-08-31     |      50 |\n",
      "|         2 | user1@college.com | 2022-08-31     |      50 |\n"
     ]
    }
   ],
   "source": [
    "sql = f'select * from scores;'\n",
    "try:\n",
    "    # db = getDB(db_name)\n",
    "    df = pd.read_sql_query(sql, client)\n",
    "    if len(df) == 0:\n",
    "        print( \"Sorry !! No scores available\")\n",
    "    print(df.to_markdown(index=False))\n",
    "\n",
    "except Exception as e:\n",
    "    print(f\"{__file__} : Exception = {e}, db_name={db_name}, sql = {sql} \")\n",
    "    print( \"Sorry !! No scores available\")\n",
    "\n"
   ]
  },
  {
   "cell_type": "code",
   "execution_count": null,
   "id": "4c6e000a",
   "metadata": {},
   "outputs": [],
   "source": []
  }
 ],
 "metadata": {
  "kernelspec": {
   "display_name": "Python 3 (ipykernel)",
   "language": "python",
   "name": "python3"
  },
  "language_info": {
   "codemirror_mode": {
    "name": "ipython",
    "version": 3
   },
   "file_extension": ".py",
   "mimetype": "text/x-python",
   "name": "python",
   "nbconvert_exporter": "python",
   "pygments_lexer": "ipython3",
   "version": "3.8.13"
  }
 },
 "nbformat": 4,
 "nbformat_minor": 5
}
